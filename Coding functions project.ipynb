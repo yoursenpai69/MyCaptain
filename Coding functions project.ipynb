{
 "cells": [
  {
   "cell_type": "markdown",
   "metadata": {},
   "source": [
    "# # Assigning elements to different lists"
   ]
  },
  {
   "cell_type": "code",
   "execution_count": 5,
   "metadata": {},
   "outputs": [
    {
     "name": "stdout",
     "output_type": "stream",
     "text": [
      "INSTRUCTIONS\n",
      "      On prompt enter the element you want to add to the list and in the second prompt enter the name of the list.\n",
      "      If you want to stop and get the out put type \"end\" in the first prompt.\n",
      "      The name of the available list's are \"list1\" and \"list2\"\n",
      "      \n",
      "Enter an element: 1\n",
      "Enter the name of the list: list1\n",
      "Enter an element: 6\n",
      "Enter the name of the list: list2\n",
      "Enter an element: 12\n",
      "Enter the name of the list: list1\n",
      "Enter an element: 45\n",
      "Enter the name of the list: list2\n",
      "Enter an element: 2\n",
      "Enter the name of the list: list1\n",
      "Enter an element: 344\n",
      "Enter the name of the list: list2\n",
      "Enter an element: 34\n",
      "Enter the name of the list: list1\n",
      "Enter an element: end\n",
      "This is the first list: [1, 12, 2, 34]\n",
      "This is the second list: [6, 45, 344]\n"
     ]
    }
   ],
   "source": [
    "# Creating two empty lists so that the elements can be added to either of the lists.\n",
    "list1 = []\n",
    "list2 = []\n",
    "print(\"\"\"INSTRUCTIONS\n",
    "On prompt enter the element you want to add to the list and in the second prompt enter the name of the list.\n",
    "If you want to stop and get the out put type \"end\" in the first prompt.\n",
    "The name of the available list's are \"list1\" and \"list2\"\n",
    "      \"\"\")\n",
    "while True: #infinite loop so we can get n number of elements from the user\n",
    "    a = input(\"Enter an element: \") #gets the input from the user\n",
    "    if a == \"end\":\n",
    "        break\n",
    "    else:\n",
    "        name  = input(\"Enter the name of the list: \") #getting input from the user to decide which list the element should be stored in \n",
    "        if name == \"list1\": #checking which lists the user typed\n",
    "            list1.append(int(a))\n",
    "        elif name == \"list2\":\n",
    "            list2.append(int(a))\n",
    "        else:\n",
    "            print(\"Please enter a valid list name\") #error message\n",
    "            continue\n",
    "print(f\"This is the first list: {list1}\") #printing the lists\n",
    "print(f\"This is the second list: {list2}\")"
   ]
  },
  {
   "cell_type": "markdown",
   "metadata": {},
   "source": []
  },
  {
   "cell_type": "markdown",
   "metadata": {},
   "source": [
    "# #Accessing elements from a tuple"
   ]
  },
  {
   "cell_type": "code",
   "execution_count": 9,
   "metadata": {},
   "outputs": [
    {
     "name": "stdout",
     "output_type": "stream",
     "text": [
      "Enter the number of elements: 3\n",
      "Enter the element: 1\n",
      "Enter the element: 2\n",
      "Enter the element: 3\n",
      "Your tuple has been created. To access the elements from the tuple enter the enter the position of the element\n",
      "The tuple is: (1, 2, 3)\n",
      "Enter the position: 3\n",
      "Please enter a positive integer below 3\n",
      "Enter the position: 5\n",
      "Please enter a positive integer below 3\n",
      "Enter the position: 1\n",
      "the element in the position 1 is 2\n"
     ]
    }
   ],
   "source": [
    "length = int(input(\"Enter the number of elements: \")) #getting the size of the tuple from the user\n",
    "tempList = [] #temporary list to store elements\n",
    "for i in range(length): #getting the elements from the user\n",
    "    element = int(input(\"Enter the element: \"))\n",
    "    tempList.append(element)\n",
    "tuple1 = tuple(tempList) #converting list to tuple\n",
    "print(f\"\"\"Your tuple has been created. To access the elements from the tuple enter the enter the position of the element\n",
    "The tuple is: {tuple1}\"\"\")\n",
    "\n",
    "while True: \n",
    "    access = int(input(\"Enter the position: \")) #getting input from user to access an element from the tuple\n",
    "    if access >= length: #checking for invalid user input\n",
    "        print(f\"Please enter a positive integer below {length}\")\n",
    "        continue\n",
    "    else:\n",
    "        print(f\"the element in the position {access} is {tuple1[access]}\") #printing the element \n",
    "        break\n",
    "\n",
    "    "
   ]
  },
  {
   "cell_type": "markdown",
   "metadata": {},
   "source": []
  },
  {
   "cell_type": "markdown",
   "metadata": {},
   "source": [
    "## Deleting different dictionary elements"
   ]
  },
  {
   "cell_type": "code",
   "execution_count": 1,
   "metadata": {},
   "outputs": [
    {
     "name": "stdout",
     "output_type": "stream",
     "text": [
      "Enter the number of elements: 3\n",
      "Enter the key: abc\n",
      "Enter the value: 1\n",
      "Enter the key: bcg\n",
      "Enter the value: 2\n",
      "Enter the key: haf\n",
      "Enter the value: 3\n",
      "This is the dictionart: {'abc': '1', 'bcg': '2', 'haf': '3'}\n",
      "Enter the number of elements you want to delete: 4\n",
      "There aren't that many elements in the list\n",
      "Enter the number of elements you want to delete: 2\n",
      "Enter the key of the element you want to delete: abc\n",
      "Enter the key of the element you want to delete: hjk\n",
      "Enter a valid key\n",
      "Enter the key of the element you want to delete: bcg\n",
      "This is the dictionary after deleting the elements: {'haf': '3'}\n"
     ]
    }
   ],
   "source": [
    "d = {} #creating an empty dictionary\n",
    "n = int(input(\"Enter the number of elements: \"))\n",
    "#geting the elements from the user\n",
    "for i in range(n): \n",
    "    key = input(\"Enter the key: \")\n",
    "    value = input(\"Enter the value: \")\n",
    "    d[key] = value\n",
    "print(f\"This is the dictionart: {d}\")\n",
    "while True:\n",
    "    num = int(input(\"Enter the number of elements you want to delete: \")) #getting the number of elements to delete from the user\n",
    "    if num > n: #error check\n",
    "        print(\"There aren't that many elements in the list\")\n",
    "        continue\n",
    "    else:\n",
    "        break\n",
    "while num != 0:\n",
    "    delElement = input(\"Enter the key of the element you want to delete: \") #prompting the user for the key to delete\n",
    "    if delElement not in d.keys():\n",
    "        print(\"Enter a valid key\")\n",
    "        continue\n",
    "    else:\n",
    "        #deleting the element and reducing the number of elements to delere\n",
    "        del d[delElement] \n",
    "        num -= 1\n",
    "print(f\"This is the dictionary after deleting the elements: {d}\") #printing the dictionary"
   ]
  },
  {
   "cell_type": "code",
   "execution_count": null,
   "metadata": {},
   "outputs": [],
   "source": []
  }
 ],
 "metadata": {
  "kernelspec": {
   "display_name": "Python 3",
   "language": "python",
   "name": "python3"
  },
  "language_info": {
   "codemirror_mode": {
    "name": "ipython",
    "version": 3
   },
   "file_extension": ".py",
   "mimetype": "text/x-python",
   "name": "python",
   "nbconvert_exporter": "python",
   "pygments_lexer": "ipython3",
   "version": "3.7.4"
  }
 },
 "nbformat": 4,
 "nbformat_minor": 2
}
